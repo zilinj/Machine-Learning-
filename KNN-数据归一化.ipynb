{
 "cells": [
  {
   "cell_type": "markdown",
   "metadata": {},
   "source": [
    "<font color=black size=5 face=雅黑>**数据归一化：**</font>"
   ]
  },
  {
   "cell_type": "markdown",
   "metadata": {},
   "source": [
    "**<font color = black>最值归一化 normalization</font>**\n",
    "\n",
    "\n",
    "解决方案：将所有数据映射到0-1之间\n",
    "\n",
    "X_scale= (X-X_min)/(X_max-X_min)\n",
    "\n",
    "适用于分布有明显边界的情况；但是受outlier影响比较大\n",
    "\n",
    "**<font color = black>均值方差归一化 Mean normalization</font>**\n",
    "\n",
    "解决方案：把所有数据归一到均值为0方差为1的分布中\n",
    "\n",
    "X_scale=(X-X_mean)/s\n",
    "\n",
    "适用于数据没有明显的边界;有可能存在极端数值\n",
    "\n"
   ]
  },
  {
   "cell_type": "markdown",
   "metadata": {},
   "source": [
    "<font color=black size=5 face=雅黑>**最值归一化**</font>"
   ]
  },
  {
   "cell_type": "code",
   "execution_count": 3,
   "metadata": {},
   "outputs": [
    {
     "data": {
      "text/plain": [
       "array([19, 62, 37, 75, 90, 72,  2, 14, 38, 86, 87,  0, 52, 76,  6, 34, 24,\n",
       "       94, 99, 64, 38, 83, 45, 44, 74, 96, 34, 73, 20, 26, 50, 43,  0, 10,\n",
       "       68, 97, 93, 71, 60, 93, 43, 35, 67, 86, 22, 96, 46, 92, 11,  9, 16,\n",
       "       88, 89, 45,  8, 88, 90, 39, 66, 54, 73, 54, 17, 70, 92, 84, 52, 59,\n",
       "       55, 73, 91, 70, 45,  1,  2, 67, 68, 93, 15, 53, 16, 83, 40, 13, 58,\n",
       "       94, 68, 55, 74, 59, 72, 94, 31, 28, 38, 68, 55,  4,  9, 46])"
      ]
     },
     "execution_count": 3,
     "metadata": {},
     "output_type": "execute_result"
    }
   ],
   "source": [
    "import numpy as np\n",
    "x=np.random.randint(0,100,size=100)\n",
    "x"
   ]
  },
  {
   "cell_type": "code",
   "execution_count": 4,
   "metadata": {},
   "outputs": [
    {
     "data": {
      "text/plain": [
       "array([0.19191919, 0.62626263, 0.37373737, 0.75757576, 0.90909091,\n",
       "       0.72727273, 0.02020202, 0.14141414, 0.38383838, 0.86868687,\n",
       "       0.87878788, 0.        , 0.52525253, 0.76767677, 0.06060606,\n",
       "       0.34343434, 0.24242424, 0.94949495, 1.        , 0.64646465,\n",
       "       0.38383838, 0.83838384, 0.45454545, 0.44444444, 0.74747475,\n",
       "       0.96969697, 0.34343434, 0.73737374, 0.2020202 , 0.26262626,\n",
       "       0.50505051, 0.43434343, 0.        , 0.1010101 , 0.68686869,\n",
       "       0.97979798, 0.93939394, 0.71717172, 0.60606061, 0.93939394,\n",
       "       0.43434343, 0.35353535, 0.67676768, 0.86868687, 0.22222222,\n",
       "       0.96969697, 0.46464646, 0.92929293, 0.11111111, 0.09090909,\n",
       "       0.16161616, 0.88888889, 0.8989899 , 0.45454545, 0.08080808,\n",
       "       0.88888889, 0.90909091, 0.39393939, 0.66666667, 0.54545455,\n",
       "       0.73737374, 0.54545455, 0.17171717, 0.70707071, 0.92929293,\n",
       "       0.84848485, 0.52525253, 0.5959596 , 0.55555556, 0.73737374,\n",
       "       0.91919192, 0.70707071, 0.45454545, 0.01010101, 0.02020202,\n",
       "       0.67676768, 0.68686869, 0.93939394, 0.15151515, 0.53535354,\n",
       "       0.16161616, 0.83838384, 0.4040404 , 0.13131313, 0.58585859,\n",
       "       0.94949495, 0.68686869, 0.55555556, 0.74747475, 0.5959596 ,\n",
       "       0.72727273, 0.94949495, 0.31313131, 0.28282828, 0.38383838,\n",
       "       0.68686869, 0.55555556, 0.04040404, 0.09090909, 0.46464646])"
      ]
     },
     "execution_count": 4,
     "metadata": {},
     "output_type": "execute_result"
    }
   ],
   "source": [
    "(x-np.min(x))/(np.max(x)-np.min(x))"
   ]
  },
  {
   "cell_type": "code",
   "execution_count": 5,
   "metadata": {},
   "outputs": [
    {
     "data": {
      "text/plain": [
       "array([[72, 28],\n",
       "       [13, 22],\n",
       "       [ 1, 81],\n",
       "       [84, 44],\n",
       "       [50,  0],\n",
       "       [89, 60],\n",
       "       [38, 91],\n",
       "       [ 1, 53],\n",
       "       [ 2, 26],\n",
       "       [97, 36]])"
      ]
     },
     "execution_count": 5,
     "metadata": {},
     "output_type": "execute_result"
    }
   ],
   "source": [
    "X=np.random.randint(0,100,(50,2))\n",
    "X[:10,:]"
   ]
  },
  {
   "cell_type": "code",
   "execution_count": 6,
   "metadata": {},
   "outputs": [],
   "source": [
    "X=np.array(X,dtype=float)"
   ]
  },
  {
   "cell_type": "code",
   "execution_count": 7,
   "metadata": {},
   "outputs": [
    {
     "data": {
      "text/plain": [
       "array([[0.73958333, 0.30434783],\n",
       "       [0.125     , 0.23913043],\n",
       "       [0.        , 0.88043478],\n",
       "       [0.86458333, 0.47826087],\n",
       "       [0.51041667, 0.        ],\n",
       "       [0.91666667, 0.65217391],\n",
       "       [0.38541667, 0.98913043],\n",
       "       [0.        , 0.57608696],\n",
       "       [0.01041667, 0.2826087 ],\n",
       "       [1.        , 0.39130435]])"
      ]
     },
     "execution_count": 7,
     "metadata": {},
     "output_type": "execute_result"
    }
   ],
   "source": [
    "X[:,0]=(X[:,0]-np.min(X[:,0]))/(np.max(X[:,0])-np.min(X[:,0]))\n",
    "X[:,1]=(X[:,1]-np.min(X[:,1]))/(np.max(X[:,1])-np.min(X[:,1]))\n",
    "X[:10]"
   ]
  },
  {
   "cell_type": "code",
   "execution_count": 9,
   "metadata": {},
   "outputs": [
    {
     "data": {
      "text/plain": [
       "<matplotlib.collections.PathCollection at 0x7f8cea4b0ca0>"
      ]
     },
     "execution_count": 9,
     "metadata": {},
     "output_type": "execute_result"
    },
    {
     "data": {
      "image/png": "[encoded data removed]",
      "text/plain": [
       "<Figure size 432x288 with 1 Axes>"
      ]
     },
     "metadata": {
      "needs_background": "light"
     },
     "output_type": "display_data"
    }
   ],
   "source": [
    "import matplotlib.pyplot as plt\n",
    "plt.scatter(X[:,0],X[:,1])"
   ]
  },
  {
   "cell_type": "code",
   "execution_count": 10,
   "metadata": {},
   "outputs": [
    {
     "data": {
      "text/plain": [
       "0.5079166666666667"
      ]
     },
     "execution_count": 10,
     "metadata": {},
     "output_type": "execute_result"
    }
   ],
   "source": [
    "np.mean(X[:,0])"
   ]
  },
  {
   "cell_type": "code",
   "execution_count": 11,
   "metadata": {},
   "outputs": [
    {
     "data": {
      "text/plain": [
       "0.30792174104975295"
      ]
     },
     "execution_count": 11,
     "metadata": {},
     "output_type": "execute_result"
    }
   ],
   "source": [
    "np.std(X[:,0])"
   ]
  },
  {
   "cell_type": "markdown",
   "metadata": {},
   "source": [
    "<font color=black size=5 face=雅黑>**均值方差归一化**</font>"
   ]
  },
  {
   "cell_type": "code",
   "execution_count": 12,
   "metadata": {},
   "outputs": [],
   "source": [
    "x2=np.random.randint(0,100,(50,2))\n",
    "x2=np.array(x2,dtype=float)\n",
    "x2[:,0]= (x2[:,0]-np.mean(x2[:,0]))/np.std(x2[:,0])\n",
    "x2[:,1]= (x2[:,1]-np.mean(x2[:,1]))/np.std(x2[:,1])"
   ]
  },
  {
   "cell_type": "code",
   "execution_count": 13,
   "metadata": {},
   "outputs": [
    {
     "data": {
      "text/plain": [
       "-8.715250743307479e-17"
      ]
     },
     "execution_count": 13,
     "metadata": {},
     "output_type": "execute_result"
    }
   ],
   "source": [
    "np.mean(x2[:,0])"
   ]
  },
  {
   "cell_type": "code",
   "execution_count": 14,
   "metadata": {},
   "outputs": [
    {
     "data": {
      "text/plain": [
       "1.0"
      ]
     },
     "execution_count": 14,
     "metadata": {},
     "output_type": "execute_result"
    }
   ],
   "source": [
    "np.std(x2[:,0])"
   ]
  },
  {
   "cell_type": "code",
   "execution_count": 15,
   "metadata": {},
   "outputs": [
    {
     "data": {
      "text/plain": [
       "<matplotlib.collections.PathCollection at 0x7f8cea5a3e50>"
      ]
     },
     "execution_count": 15,
     "metadata": {},
     "output_type": "execute_result"
    },
    {
     "data": {
      "image/png": "[encoded data removed]",
      "text/plain": [
       "<Figure size 432x288 with 1 Axes>"
      ]
     },
     "metadata": {
      "needs_background": "light"
     },
     "output_type": "display_data"
    }
   ],
   "source": [
    "plt.scatter(x2[:,0],x2[:,1])"
   ]
  },
  {
   "cell_type": "markdown",
   "metadata": {},
   "source": [
    "<font color=black size=5 face=雅黑>**Scikit-learn中的Scaler**</font>"
   ]
  },
  {
   "cell_type": "code",
   "execution_count": 16,
   "metadata": {},
   "outputs": [],
   "source": [
    "import numpy as np\n",
    "from sklearn import datasets"
   ]
  },
  {
   "cell_type": "code",
   "execution_count": 17,
   "metadata": {},
   "outputs": [],
   "source": [
    "iris=datasets.load_iris()"
   ]
  },
  {
   "cell_type": "code",
   "execution_count": 18,
   "metadata": {},
   "outputs": [],
   "source": [
    "X=iris.data\n",
    "y=iris.target"
   ]
  },
  {
   "cell_type": "code",
   "execution_count": 19,
   "metadata": {},
   "outputs": [
    {
     "data": {
      "text/plain": [
       "array([[5.1, 3.5, 1.4, 0.2],\n",
       "       [4.9, 3. , 1.4, 0.2],\n",
       "       [4.7, 3.2, 1.3, 0.2],\n",
       "       [4.6, 3.1, 1.5, 0.2],\n",
       "       [5. , 3.6, 1.4, 0.2],\n",
       "       [5.4, 3.9, 1.7, 0.4],\n",
       "       [4.6, 3.4, 1.4, 0.3],\n",
       "       [5. , 3.4, 1.5, 0.2],\n",
       "       [4.4, 2.9, 1.4, 0.2],\n",
       "       [4.9, 3.1, 1.5, 0.1]])"
      ]
     },
     "execution_count": 19,
     "metadata": {},
     "output_type": "execute_result"
    }
   ],
   "source": [
    "X[:10,:]"
   ]
  },
  {
   "cell_type": "code",
   "execution_count": 38,
   "metadata": {},
   "outputs": [],
   "source": [
    "from sklearn.model_selection import train_test_split\n",
    "X_train, X_test,y_train,y_test = train_test_split(iris.data,iris.target,test_size = 0.2,random_state=666)"
   ]
  },
  {
   "cell_type": "markdown",
   "metadata": {},
   "source": [
    "<font color=black size=5 face=雅黑>**Scikit-learn中的StandardScaler**</font>"
   ]
  },
  {
   "cell_type": "code",
   "execution_count": 39,
   "metadata": {},
   "outputs": [],
   "source": [
    "from sklearn.preprocessing import StandardScaler\n",
    "standardScaler=StandardScaler()"
   ]
  },
  {
   "cell_type": "code",
   "execution_count": 40,
   "metadata": {},
   "outputs": [
    {
     "data": {
      "text/plain": [
       "StandardScaler()"
      ]
     },
     "execution_count": 40,
     "metadata": {},
     "output_type": "execute_result"
    }
   ],
   "source": [
    "standardScaler.fit(X_train)"
   ]
  },
  {
   "cell_type": "code",
   "execution_count": 41,
   "metadata": {},
   "outputs": [
    {
     "data": {
      "text/plain": [
       "array([5.83416667, 3.08666667, 3.70833333, 1.17      ])"
      ]
     },
     "execution_count": 41,
     "metadata": {},
     "output_type": "execute_result"
    }
   ],
   "source": [
    "standardScaler.mean_"
   ]
  },
  {
   "cell_type": "code",
   "execution_count": 42,
   "metadata": {},
   "outputs": [
    {
     "data": {
      "text/plain": [
       "array([0.81019502, 0.44327067, 1.76401924, 0.75317107])"
      ]
     },
     "execution_count": 42,
     "metadata": {},
     "output_type": "execute_result"
    }
   ],
   "source": [
    "#标准差\n",
    "standardScaler.scale_"
   ]
  },
  {
   "cell_type": "code",
   "execution_count": 51,
   "metadata": {},
   "outputs": [],
   "source": [
    "#归一化后得到的结果\n",
    "X_train=standardScaler.transform(X_train)"
   ]
  },
  {
   "cell_type": "code",
   "execution_count": 50,
   "metadata": {},
   "outputs": [],
   "source": [
    "#测试集也要进行归一化处理\n",
    "X_test_standard=standardScaler.transform(X_test)"
   ]
  },
  {
   "cell_type": "code",
   "execution_count": 45,
   "metadata": {},
   "outputs": [],
   "source": [
    "from sklearn.neighbors import KNeighborsClassifier\n",
    "knn_clf=KNeighborsClassifier(n_neighbors=3)"
   ]
  },
  {
   "cell_type": "code",
   "execution_count": 46,
   "metadata": {},
   "outputs": [
    {
     "data": {
      "text/plain": [
       "KNeighborsClassifier(n_neighbors=3)"
      ]
     },
     "execution_count": 46,
     "metadata": {},
     "output_type": "execute_result"
    }
   ],
   "source": [
    "knn_clf.fit(X_train,y_train)"
   ]
  },
  {
   "cell_type": "code",
   "execution_count": 47,
   "metadata": {},
   "outputs": [
    {
     "data": {
      "text/plain": [
       "1.0"
      ]
     },
     "execution_count": 47,
     "metadata": {},
     "output_type": "execute_result"
    }
   ],
   "source": [
    "knn_clf.score(X_test_standard,y_test)"
   ]
  },
  {
   "cell_type": "markdown",
   "metadata": {},
   "source": [
    "<font color=black size=5 face=雅黑>**KNN总结**</font>\n",
    "\n",
    "优点：\n",
    "1. 解决分类问题：可以解决多分类问题\n",
    "\n",
    "2. 可以解决回归问题(KNeighborsRegressor)\n",
    "\n",
    "缺点：\n",
    "1. 效率低下,如果训练机有m个样本，n个特征，则预测每一个新数据，需要O(m*n)\n",
    "\n",
    "2. 高度数据相关，对outlier敏感\n",
    "\n",
    "3. 预测的结果不具有可解释性\n",
    "\n",
    "4. 纬数灾难，随着维度的增加，看似相近的两个点之间的距离越来越大"
   ]
  },
  {
   "cell_type": "code",
   "execution_count": null,
   "metadata": {},
   "outputs": [],
   "source": []
  }
 ],
 "metadata": {
  "kernelspec": {
   "display_name": "Python 3",
   "language": "python",
   "name": "python3"
  },
  "language_info": {
   "codemirror_mode": {
    "name": "ipython",
    "version": 3
   },
   "file_extension": ".py",
   "mimetype": "text/x-python",
   "name": "python",
   "nbconvert_exporter": "python",
   "pygments_lexer": "ipython3",
   "version": "3.8.3"
  }
 },
 "nbformat": 4,
 "nbformat_minor": 4
}
